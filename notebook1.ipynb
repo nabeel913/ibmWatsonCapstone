{
    "nbformat_minor": 1, 
    "cells": [
        {
            "source": "\nimport types\nimport pandas as pd\nfrom botocore.client import Config\nimport ibm_boto3\n\ndef __iter__(self): return 0\n\n# @hidden_cell\n# The following code accesses a file in your IBM Cloud Object Storage. It includes your credentials.\n# You might want to remove those credentials before you share your notebook.\nclient_2f52abf73c4949c5a566adc6b8335732 = ibm_boto3.client(service_name='s3',\n    ibm_api_key_id='Hqh1aAtqOx-CW-KEVdhjYebkRvVxHieSM2R9YkxKWZ-D',\n    ibm_auth_endpoint=\"https://iam.bluemix.net/oidc/token\",\n    config=Config(signature_version='oauth'),\n    endpoint_url='https://s3-api.us-geo.objectstorage.service.networklayer.com')\n\n# Your data file was loaded into a botocore.response.StreamingBody object.\n# Please read the documentation of ibm_boto3 and pandas to learn more about your possibilities to load the data.\n# ibm_boto3 documentation: https://ibm.github.io/ibm-cos-sdk-python/\n# pandas documentation: http://pandas.pydata.org/\nstreaming_body_1 = client_2f52abf73c4949c5a566adc6b8335732.get_object(Bucket='edx1-donotdelete-pr-rztxfpbuptgyl2', Key='df_raw.pkl')['Body']\n# add missing __iter__ method, so pandas accepts body as file-like object\nif not hasattr(streaming_body_1, \"__iter__\"): streaming_body_1.__iter__ = types.MethodType( __iter__, streaming_body_1 ) \n\n# @hidden_cell\n# The following code contains the credentials for a file in your IBM Cloud Object Storage.\n# You might want to remove those credentials before you share your notebook.\ncredentials_1 = {\n    'IAM_SERVICE_ID': 'iam-ServiceId-9cbc2068-6197-4c90-a5f6-79ed2af31a08',\n    'IBM_API_KEY_ID': 'Hqh1aAtqOx-CW-KEVdhjYebkRvVxHieSM2R9YkxKWZ-D',\n    'ENDPOINT': 'https://s3-api.us-geo.objectstorage.service.networklayer.com',\n    'IBM_AUTH_ENDPOINT': 'https://iam.bluemix.net/oidc/token',\n    'BUCKET': 'edx1-donotdelete-pr-rztxfpbuptgyl2',\n    'FILE': 'df_raw.pkl'\n}\n\n", 
            "cell_type": "raw", 
            "metadata": {}
        }, 
        {
            "execution_count": 20, 
            "cell_type": "code", 
            "metadata": {
                "scrolled": true
            }, 
            "outputs": [
                {
                    "output_type": "stream", 
                    "name": "stdout", 
                    "text": "              created_date  unique_key          complaint_type  incident_zip  \\\n0  2013-01-11T13:25:34.000    24765056  HPD Literature Request           NaN   \n1  2018-08-11T19:19:41.000    39981834           PAINT/PLASTER       11429.0   \n2  2018-08-11T19:19:41.000    39982698               APPLIANCE       11429.0   \n3  2018-08-11T19:19:41.000    39987943    UNSANITARY CONDITION       11429.0   \n4  2018-10-23T19:27:06.000    40636028             DOOR/WINDOW       11412.0   \n\n    incident_address street_name address_type            city  \\\n0                NaN         NaN          NaN             NaN   \n1  104-34 219 STREET  219 STREET      ADDRESS  Queens Village   \n2  104-34 219 STREET  219 STREET      ADDRESS  Queens Village   \n3  104-34 219 STREET  219 STREET      ADDRESS  Queens Village   \n4  116-35 195 STREET  195 STREET      ADDRESS    Saint Albans   \n\n                              resolution_description      borough   latitude  \\\n0  The literature has been mailed. If it has not ...  Unspecified        NaN   \n1  The Department of Housing Preservation and Dev...       QUEENS  40.711539   \n2  The Department of Housing Preservation and Dev...       QUEENS  40.711539   \n3  The Department of Housing Preservation and Dev...       QUEENS  40.711539   \n4  The Department of Housing Preservation and Dev...       QUEENS  40.693715   \n\n   longitude              closed_date         location_type  status  \n0        NaN  2013-01-11T15:01:56.000                   NaN  Closed  \n1 -73.735724  2019-03-30T08:58:02.000  RESIDENTIAL BUILDING  Closed  \n2 -73.735724  2019-03-30T08:58:01.000  RESIDENTIAL BUILDING  Closed  \n3 -73.735724  2019-03-30T08:58:01.000  RESIDENTIAL BUILDING  Closed  \n4 -73.757117  2019-03-30T08:58:02.000  RESIDENTIAL BUILDING  Closed  \n"
                }
            ], 
            "source": "df = pd.read_pickle('./df_raw_local.pkl')\nprint(df.head())"
        }, 
        {
            "execution_count": 23, 
            "cell_type": "code", 
            "metadata": {}, 
            "outputs": [], 
            "source": "\ncomplaints=(df['complaint_type'].value_counts())\n"
        }, 
        {
            "execution_count": 27, 
            "cell_type": "code", 
            "metadata": {}, 
            "outputs": [
                {
                    "output_type": "stream", 
                    "name": "stdout", 
                    "text": "HEAT/HOT WATER    1146190\nHEATING            887869\nPLUMBING           698569\nName: complaint_type, dtype: int64\n"
                }
            ], 
            "source": "print(complaints.nlargest(3)) #Largest 3 complaints"
        }, 
        {
            "execution_count": null, 
            "cell_type": "code", 
            "metadata": {}, 
            "outputs": [], 
            "source": ""
        }
    ], 
    "metadata": {
        "kernelspec": {
            "display_name": "Python 3.5", 
            "name": "python3", 
            "language": "python"
        }, 
        "language_info": {
            "mimetype": "text/x-python", 
            "nbconvert_exporter": "python", 
            "version": "3.5.5", 
            "name": "python", 
            "file_extension": ".py", 
            "pygments_lexer": "ipython3", 
            "codemirror_mode": {
                "version": 3, 
                "name": "ipython"
            }
        }
    }, 
    "nbformat": 4
}