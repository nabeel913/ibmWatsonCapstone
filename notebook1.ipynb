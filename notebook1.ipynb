{
    "nbformat_minor": 1, 
    "cells": [
        {
            "execution_count": 2, 
            "cell_type": "code", 
            "metadata": {}, 
            "outputs": [], 
            "source": "\ncomplaints=(df['complaint_type'].value_counts())\n"
        }, 
        {
            "execution_count": 3, 
            "cell_type": "code", 
            "metadata": {}, 
            "outputs": [
                {
                    "output_type": "stream", 
                    "name": "stdout", 
                    "text": "HEAT/HOT WATER    1146190\nHEATING            887869\nPLUMBING           698569\nName: complaint_type, dtype: int64\n"
                }
            ], 
            "source": "print(complaints.nlargest(3)) #Largest 3 complaints"
        }, 
        {
            "execution_count": 5, 
            "cell_type": "code", 
            "metadata": {}, 
            "outputs": [
                {
                    "execution_count": 5, 
                    "metadata": {}, 
                    "data": {
                        "text/plain": "Index(['Borough', 'Block', 'Lot', 'CD', 'CT2010', 'CB2010', 'SchoolDist',\n       'Council', 'ZipCode', 'FireComp', 'PolicePrct', 'HealthCenterDistrict',\n       'HealthArea', 'SanitBoro', 'SanitDistrict', 'SanitSub', 'Address',\n       'ZoneDist1', 'ZoneDist2', 'ZoneDist3', 'ZoneDist4', 'Overlay1',\n       'Overlay2', 'SPDist1', 'SPDist2', 'SPDist3', 'LtdHeight', 'SplitZone',\n       'BldgClass', 'LandUse', 'Easements', 'OwnerType', 'OwnerName',\n       'LotArea', 'BldgArea', 'ComArea', 'ResArea', 'OfficeArea', 'RetailArea',\n       'GarageArea', 'StrgeArea', 'FactryArea', 'OtherArea', 'AreaSource',\n       'NumBldgs', 'NumFloors', 'UnitsRes', 'UnitsTotal', 'LotFront',\n       'LotDepth', 'BldgFront', 'BldgDepth', 'Ext', 'ProxCode', 'IrrLotCode',\n       'LotType', 'BsmtCode', 'AssessLand', 'AssessTot', 'ExemptLand',\n       'ExemptTot', 'YearBuilt', 'YearAlter1', 'YearAlter2', 'HistDist',\n       'Landmark', 'BuiltFAR', 'ResidFAR', 'CommFAR', 'FacilFAR', 'BoroCode',\n       'BBL', 'CondoNo', 'Tract2010', 'XCoord', 'YCoord', 'ZoneMap', 'ZMCode',\n       'Sanborn', 'TaxMap', 'EDesigNum', 'APPBBL', 'APPDate', 'PLUTOMapID',\n       'FIRM07_FLAG', 'PFIRM15_FLAG', 'Version'],\n      dtype='object')"
                    }, 
                    "output_type": "execute_result"
                }
            ], 
            "source": "df_data_1.columns"
        }, 
        {
            "execution_count": 6, 
            "cell_type": "code", 
            "metadata": {}, 
            "outputs": [], 
            "source": "focus = df.query('[\"HEAT/HOT WATER\",\"HEATING\"] in complaint_type')"
        }, 
        {
            "execution_count": 7, 
            "cell_type": "code", 
            "metadata": {}, 
            "outputs": [
                {
                    "execution_count": 7, 
                    "metadata": {}, 
                    "data": {
                        "text/plain": "BRONX        567954\nBROOKLYN     540986\nMANHATTAN    397092\nName: borough, dtype: int64"
                    }, 
                    "output_type": "execute_result"
                }
            ], 
            "source": "focus.borough.value_counts().nlargest(3)"
        }, 
        {
            "execution_count": 8, 
            "cell_type": "code", 
            "metadata": {}, 
            "outputs": [
                {
                    "execution_count": 8, 
                    "metadata": {}, 
                    "data": {
                        "text/plain": "11226.0    65214\n10467.0    62606\n10458.0    62074\nName: incident_zip, dtype: int64"
                    }, 
                    "output_type": "execute_result"
                }
            ], 
            "source": "focus.incident_zip.value_counts().nlargest(3)"
        }, 
        {
            "execution_count": 9, 
            "cell_type": "code", 
            "metadata": {}, 
            "outputs": [
                {
                    "execution_count": 9, 
                    "metadata": {}, 
                    "data": {
                        "text/plain": "GRAND CONCOURSE    35886\nBROADWAY           23409\nOCEAN AVENUE       17821\nName: street_name, dtype: int64"
                    }, 
                    "output_type": "execute_result"
                }
            ], 
            "source": "focus.street_name.value_counts().nlargest(3)"
        }, 
        {
            "execution_count": 34, 
            "cell_type": "code", 
            "metadata": {}, 
            "outputs": [
                {
                    "output_type": "stream", 
                    "name": "stdout", 
                    "text": "BRONX & BROOKLYN have the maximum number of incidences of Heating , Hot Water\n"
                }
            ], 
            "source": "print(\"BRONX & BROOKLYN have the maximum number of incidences of Heating , Hot Water\")"
        }, 
        {
            "execution_count": 10, 
            "cell_type": "code", 
            "metadata": {}, 
            "outputs": [], 
            "source": "#We have identified Bronx & Brooklyn as the top 2 boroghs.\ndf_data_2.columns\ndf_data_1=df_data_1[['Borough','Block','Address', 'BldgArea', 'BldgDepth', 'BuiltFAR', 'CommFAR', 'FacilFAR', 'Lot', 'LotArea', 'LotDepth', 'NumBldgs', 'NumFloors', 'OfficeArea', 'ResArea', 'ResidFAR', 'RetailArea','YearBuilt', 'YearAlter1', 'ZipCode', 'YCoord', 'XCoord']]\ndf_data_2=df_data_2[['Borough','Block','Address', 'BldgArea', 'BldgDepth', 'BuiltFAR', 'CommFAR', 'FacilFAR', 'Lot', 'LotArea', 'LotDepth', 'NumBldgs', 'NumFloors', 'OfficeArea', 'ResArea', 'ResidFAR', 'RetailArea','YearBuilt', 'YearAlter1', 'ZipCode', 'YCoord', 'XCoord']]\ndf_data_3=df_data_3[['Borough','Block','Address', 'BldgArea', 'BldgDepth', 'BuiltFAR', 'CommFAR', 'FacilFAR', 'Lot', 'LotArea', 'LotDepth', 'NumBldgs', 'NumFloors', 'OfficeArea', 'ResArea', 'ResidFAR', 'RetailArea','YearBuilt', 'YearAlter1', 'ZipCode', 'YCoord', 'XCoord']]\ndf_data_4=df_data_4[['Borough','Block','Address', 'BldgArea', 'BldgDepth', 'BuiltFAR', 'CommFAR', 'FacilFAR', 'Lot', 'LotArea', 'LotDepth', 'NumBldgs', 'NumFloors', 'OfficeArea', 'ResArea', 'ResidFAR', 'RetailArea','YearBuilt', 'YearAlter1', 'ZipCode', 'YCoord', 'XCoord']]\ndf_data_5=df_data_5[['Borough','Block','Address', 'BldgArea', 'BldgDepth', 'BuiltFAR', 'CommFAR', 'FacilFAR', 'Lot', 'LotArea', 'LotDepth', 'NumBldgs', 'NumFloors', 'OfficeArea', 'ResArea', 'ResidFAR', 'RetailArea','YearBuilt', 'YearAlter1', 'ZipCode', 'YCoord', 'XCoord']]\n\ndf_top = pd.concat([df_data_2,df_data_1,df_data_3,df_data_4,df_data_5])"
        }, 
        {
            "execution_count": 11, 
            "cell_type": "code", 
            "metadata": {}, 
            "outputs": [
                {
                    "execution_count": 11, 
                    "metadata": {}, 
                    "data": {
                        "text/html": "<div>\n<style scoped>\n    .dataframe tbody tr th:only-of-type {\n        vertical-align: middle;\n    }\n\n    .dataframe tbody tr th {\n        vertical-align: top;\n    }\n\n    .dataframe thead th {\n        text-align: right;\n    }\n</style>\n<table border=\"1\" class=\"dataframe\">\n  <thead>\n    <tr style=\"text-align: right;\">\n      <th></th>\n      <th>created_date</th>\n      <th>unique_key</th>\n      <th>complaint_type</th>\n      <th>incident_zip</th>\n      <th>incident_address</th>\n      <th>street_name</th>\n      <th>address_type</th>\n      <th>city</th>\n      <th>resolution_description</th>\n      <th>borough</th>\n      <th>latitude</th>\n      <th>longitude</th>\n      <th>closed_date</th>\n      <th>location_type</th>\n      <th>status</th>\n    </tr>\n  </thead>\n  <tbody>\n    <tr>\n      <th>154</th>\n      <td>2019-03-25T16:31:21.000</td>\n      <td>42049572</td>\n      <td>HEAT/HOT WATER</td>\n      <td>11385.0</td>\n      <td>71-21 65 STREET</td>\n      <td>65 STREET</td>\n      <td>ADDRESS</td>\n      <td>Ridgewood</td>\n      <td>The Department of Housing Preservation and Dev...</td>\n      <td>QUEENS</td>\n      <td>40.701989</td>\n      <td>-73.890577</td>\n      <td>2019-03-30T08:11:05.000</td>\n      <td>RESIDENTIAL BUILDING</td>\n      <td>Closed</td>\n    </tr>\n    <tr>\n      <th>155</th>\n      <td>2019-03-26T21:10:48.000</td>\n      <td>42061623</td>\n      <td>HEAT/HOT WATER</td>\n      <td>11236.0</td>\n      <td>10412 AVENUE L</td>\n      <td>AVENUE L</td>\n      <td>ADDRESS</td>\n      <td>BROOKLYN</td>\n      <td>The Department of Housing Preservation and Dev...</td>\n      <td>BROOKLYN</td>\n      <td>40.642237</td>\n      <td>-73.889760</td>\n      <td>2019-03-28T02:08:55.000</td>\n      <td>RESIDENTIAL BUILDING</td>\n      <td>Closed</td>\n    </tr>\n    <tr>\n      <th>157</th>\n      <td>2019-03-27T04:36:22.000</td>\n      <td>42064133</td>\n      <td>HEAT/HOT WATER</td>\n      <td>11106.0</td>\n      <td>31-35 CRESCENT STREET</td>\n      <td>CRESCENT STREET</td>\n      <td>ADDRESS</td>\n      <td>Astoria</td>\n      <td>The Department of Housing Preservation and Dev...</td>\n      <td>QUEENS</td>\n      <td>40.764684</td>\n      <td>-73.927184</td>\n      <td>2019-03-30T02:06:02.000</td>\n      <td>RESIDENTIAL BUILDING</td>\n      <td>Closed</td>\n    </tr>\n    <tr>\n      <th>159</th>\n      <td>2019-03-27T17:52:17.000</td>\n      <td>42065237</td>\n      <td>HEAT/HOT WATER</td>\n      <td>10459.0</td>\n      <td>930 FOX STREET</td>\n      <td>FOX STREET</td>\n      <td>ADDRESS</td>\n      <td>BRONX</td>\n      <td>The Department of Housing Preservation and Dev...</td>\n      <td>BRONX</td>\n      <td>40.820637</td>\n      <td>-73.893872</td>\n      <td>2019-03-30T02:08:48.000</td>\n      <td>RESIDENTIAL BUILDING</td>\n      <td>Closed</td>\n    </tr>\n    <tr>\n      <th>160</th>\n      <td>2019-03-27T21:16:20.000</td>\n      <td>42065248</td>\n      <td>HEAT/HOT WATER</td>\n      <td>10467.0</td>\n      <td>3525 DECATUR AVENUE</td>\n      <td>DECATUR AVENUE</td>\n      <td>ADDRESS</td>\n      <td>BRONX</td>\n      <td>The complaint you filed is a duplicate of a co...</td>\n      <td>BRONX</td>\n      <td>40.879228</td>\n      <td>-73.872353</td>\n      <td>2019-03-30T02:06:18.000</td>\n      <td>RESIDENTIAL BUILDING</td>\n      <td>Closed</td>\n    </tr>\n  </tbody>\n</table>\n</div>", 
                        "text/plain": "                created_date  unique_key  complaint_type  incident_zip  \\\n154  2019-03-25T16:31:21.000    42049572  HEAT/HOT WATER       11385.0   \n155  2019-03-26T21:10:48.000    42061623  HEAT/HOT WATER       11236.0   \n157  2019-03-27T04:36:22.000    42064133  HEAT/HOT WATER       11106.0   \n159  2019-03-27T17:52:17.000    42065237  HEAT/HOT WATER       10459.0   \n160  2019-03-27T21:16:20.000    42065248  HEAT/HOT WATER       10467.0   \n\n          incident_address      street_name address_type       city  \\\n154        71-21 65 STREET        65 STREET      ADDRESS  Ridgewood   \n155         10412 AVENUE L         AVENUE L      ADDRESS   BROOKLYN   \n157  31-35 CRESCENT STREET  CRESCENT STREET      ADDRESS    Astoria   \n159         930 FOX STREET       FOX STREET      ADDRESS      BRONX   \n160    3525 DECATUR AVENUE   DECATUR AVENUE      ADDRESS      BRONX   \n\n                                resolution_description   borough   latitude  \\\n154  The Department of Housing Preservation and Dev...    QUEENS  40.701989   \n155  The Department of Housing Preservation and Dev...  BROOKLYN  40.642237   \n157  The Department of Housing Preservation and Dev...    QUEENS  40.764684   \n159  The Department of Housing Preservation and Dev...     BRONX  40.820637   \n160  The complaint you filed is a duplicate of a co...     BRONX  40.879228   \n\n     longitude              closed_date         location_type  status  \n154 -73.890577  2019-03-30T08:11:05.000  RESIDENTIAL BUILDING  Closed  \n155 -73.889760  2019-03-28T02:08:55.000  RESIDENTIAL BUILDING  Closed  \n157 -73.927184  2019-03-30T02:06:02.000  RESIDENTIAL BUILDING  Closed  \n159 -73.893872  2019-03-30T02:08:48.000  RESIDENTIAL BUILDING  Closed  \n160 -73.872353  2019-03-30T02:06:18.000  RESIDENTIAL BUILDING  Closed  "
                    }, 
                    "output_type": "execute_result"
                }
            ], 
            "source": "focus.head()"
        }, 
        {
            "execution_count": 12, 
            "cell_type": "code", 
            "metadata": {}, 
            "outputs": [
                {
                    "execution_count": 12, 
                    "metadata": {}, 
                    "data": {
                        "text/plain": "Index(['created_date', 'unique_key', 'complaint_type', 'incident_zip',\n       'incident_address', 'street_name', 'address_type', 'city',\n       'resolution_description', 'borough', 'latitude', 'longitude',\n       'closed_date', 'location_type', 'status'],\n      dtype='object')"
                    }, 
                    "output_type": "execute_result"
                }
            ], 
            "source": "focus.columns"
        }, 
        {
            "execution_count": 13, 
            "cell_type": "code", 
            "metadata": {}, 
            "outputs": [], 
            "source": "df_top=df_top[['Borough','Block','Address', 'BldgArea', 'BldgDepth', 'BuiltFAR', 'CommFAR', 'FacilFAR', 'Lot', 'LotArea', 'LotDepth', 'NumBldgs', 'NumFloors', 'OfficeArea', 'ResArea', 'ResidFAR', 'RetailArea','YearBuilt', 'YearAlter1', 'ZipCode', 'YCoord', 'XCoord']]"
        }, 
        {
            "execution_count": 14, 
            "cell_type": "code", 
            "metadata": {}, 
            "outputs": [
                {
                    "execution_count": 14, 
                    "metadata": {}, 
                    "data": {
                        "text/html": "<div>\n<style scoped>\n    .dataframe tbody tr th:only-of-type {\n        vertical-align: middle;\n    }\n\n    .dataframe tbody tr th {\n        vertical-align: top;\n    }\n\n    .dataframe thead th {\n        text-align: right;\n    }\n</style>\n<table border=\"1\" class=\"dataframe\">\n  <thead>\n    <tr style=\"text-align: right;\">\n      <th></th>\n      <th>Borough</th>\n      <th>Block</th>\n      <th>Address</th>\n      <th>BldgArea</th>\n      <th>BldgDepth</th>\n      <th>BuiltFAR</th>\n      <th>CommFAR</th>\n      <th>FacilFAR</th>\n      <th>Lot</th>\n      <th>LotArea</th>\n      <th>...</th>\n      <th>NumFloors</th>\n      <th>OfficeArea</th>\n      <th>ResArea</th>\n      <th>ResidFAR</th>\n      <th>RetailArea</th>\n      <th>YearBuilt</th>\n      <th>YearAlter1</th>\n      <th>ZipCode</th>\n      <th>YCoord</th>\n      <th>XCoord</th>\n    </tr>\n  </thead>\n  <tbody>\n    <tr>\n      <th>0</th>\n      <td>BX</td>\n      <td>2260</td>\n      <td>122 BRUCKNER BOULEVARD</td>\n      <td>0</td>\n      <td>0.0</td>\n      <td>0.00</td>\n      <td>5.0</td>\n      <td>6.5</td>\n      <td>1</td>\n      <td>15000</td>\n      <td>...</td>\n      <td>0.0</td>\n      <td>0</td>\n      <td>0</td>\n      <td>6.02</td>\n      <td>0</td>\n      <td>0</td>\n      <td>0</td>\n      <td>10454.0</td>\n      <td>232162.0</td>\n      <td>1005957.0</td>\n    </tr>\n    <tr>\n      <th>1</th>\n      <td>BX</td>\n      <td>2260</td>\n      <td>126 BRUCKNER BOULEVARD</td>\n      <td>752</td>\n      <td>16.0</td>\n      <td>0.05</td>\n      <td>5.0</td>\n      <td>6.5</td>\n      <td>4</td>\n      <td>13770</td>\n      <td>...</td>\n      <td>1.0</td>\n      <td>272</td>\n      <td>0</td>\n      <td>6.02</td>\n      <td>0</td>\n      <td>1931</td>\n      <td>1994</td>\n      <td>10454.0</td>\n      <td>232156.0</td>\n      <td>1006076.0</td>\n    </tr>\n    <tr>\n      <th>2</th>\n      <td>BX</td>\n      <td>2260</td>\n      <td>138 BRUCKNER BOULEVARD</td>\n      <td>39375</td>\n      <td>200.0</td>\n      <td>1.13</td>\n      <td>5.0</td>\n      <td>6.5</td>\n      <td>10</td>\n      <td>35000</td>\n      <td>...</td>\n      <td>2.0</td>\n      <td>0</td>\n      <td>0</td>\n      <td>6.02</td>\n      <td>0</td>\n      <td>1931</td>\n      <td>0</td>\n      <td>10454.0</td>\n      <td>232036.0</td>\n      <td>1006187.0</td>\n    </tr>\n    <tr>\n      <th>3</th>\n      <td>BX</td>\n      <td>2260</td>\n      <td>144 BRUCKNER BOULEVARD</td>\n      <td>12500</td>\n      <td>85.0</td>\n      <td>5.00</td>\n      <td>5.0</td>\n      <td>6.5</td>\n      <td>17</td>\n      <td>2500</td>\n      <td>...</td>\n      <td>5.0</td>\n      <td>0</td>\n      <td>12500</td>\n      <td>6.02</td>\n      <td>0</td>\n      <td>1931</td>\n      <td>2001</td>\n      <td>10454.0</td>\n      <td>232033.0</td>\n      <td>1006299.0</td>\n    </tr>\n    <tr>\n      <th>4</th>\n      <td>BX</td>\n      <td>2260</td>\n      <td>148 BRUCKNER BOULEVARD</td>\n      <td>8595</td>\n      <td>70.0</td>\n      <td>4.58</td>\n      <td>5.0</td>\n      <td>6.5</td>\n      <td>18</td>\n      <td>1875</td>\n      <td>...</td>\n      <td>5.0</td>\n      <td>0</td>\n      <td>6876</td>\n      <td>6.02</td>\n      <td>1719</td>\n      <td>1920</td>\n      <td>2009</td>\n      <td>10454.0</td>\n      <td>232040.0</td>\n      <td>1006363.0</td>\n    </tr>\n  </tbody>\n</table>\n<p>5 rows \u00d7 22 columns</p>\n</div>", 
                        "text/plain": "  Borough  Block                 Address  BldgArea  BldgDepth  BuiltFAR  \\\n0      BX   2260  122 BRUCKNER BOULEVARD         0        0.0      0.00   \n1      BX   2260  126 BRUCKNER BOULEVARD       752       16.0      0.05   \n2      BX   2260  138 BRUCKNER BOULEVARD     39375      200.0      1.13   \n3      BX   2260  144 BRUCKNER BOULEVARD     12500       85.0      5.00   \n4      BX   2260  148 BRUCKNER BOULEVARD      8595       70.0      4.58   \n\n   CommFAR  FacilFAR  Lot  LotArea    ...      NumFloors  OfficeArea  ResArea  \\\n0      5.0       6.5    1    15000    ...            0.0           0        0   \n1      5.0       6.5    4    13770    ...            1.0         272        0   \n2      5.0       6.5   10    35000    ...            2.0           0        0   \n3      5.0       6.5   17     2500    ...            5.0           0    12500   \n4      5.0       6.5   18     1875    ...            5.0           0     6876   \n\n   ResidFAR  RetailArea  YearBuilt  YearAlter1  ZipCode    YCoord     XCoord  \n0      6.02           0          0           0  10454.0  232162.0  1005957.0  \n1      6.02           0       1931        1994  10454.0  232156.0  1006076.0  \n2      6.02           0       1931           0  10454.0  232036.0  1006187.0  \n3      6.02           0       1931        2001  10454.0  232033.0  1006299.0  \n4      6.02        1719       1920        2009  10454.0  232040.0  1006363.0  \n\n[5 rows x 22 columns]"
                    }, 
                    "output_type": "execute_result"
                }
            ], 
            "source": "df_top.head()"
        }, 
        {
            "execution_count": 15, 
            "cell_type": "code", 
            "metadata": {}, 
            "outputs": [
                {
                    "execution_count": 15, 
                    "metadata": {}, 
                    "data": {
                        "text/html": "<div>\n<style scoped>\n    .dataframe tbody tr th:only-of-type {\n        vertical-align: middle;\n    }\n\n    .dataframe tbody tr th {\n        vertical-align: top;\n    }\n\n    .dataframe thead th {\n        text-align: right;\n    }\n</style>\n<table border=\"1\" class=\"dataframe\">\n  <thead>\n    <tr style=\"text-align: right;\">\n      <th></th>\n      <th>created_date</th>\n      <th>unique_key</th>\n      <th>complaint_type</th>\n      <th>incident_zip</th>\n      <th>incident_address</th>\n      <th>street_name</th>\n      <th>address_type</th>\n      <th>city</th>\n      <th>resolution_description</th>\n      <th>borough</th>\n      <th>latitude</th>\n      <th>longitude</th>\n      <th>closed_date</th>\n      <th>location_type</th>\n      <th>status</th>\n    </tr>\n  </thead>\n  <tbody>\n    <tr>\n      <th>154</th>\n      <td>2019-03-25T16:31:21.000</td>\n      <td>42049572</td>\n      <td>HEAT/HOT WATER</td>\n      <td>11385.0</td>\n      <td>71-21 65 STREET</td>\n      <td>65 STREET</td>\n      <td>ADDRESS</td>\n      <td>Ridgewood</td>\n      <td>The Department of Housing Preservation and Dev...</td>\n      <td>QUEENS</td>\n      <td>40.701989</td>\n      <td>-73.890577</td>\n      <td>2019-03-30T08:11:05.000</td>\n      <td>RESIDENTIAL BUILDING</td>\n      <td>Closed</td>\n    </tr>\n    <tr>\n      <th>155</th>\n      <td>2019-03-26T21:10:48.000</td>\n      <td>42061623</td>\n      <td>HEAT/HOT WATER</td>\n      <td>11236.0</td>\n      <td>10412 AVENUE L</td>\n      <td>AVENUE L</td>\n      <td>ADDRESS</td>\n      <td>BROOKLYN</td>\n      <td>The Department of Housing Preservation and Dev...</td>\n      <td>BROOKLYN</td>\n      <td>40.642237</td>\n      <td>-73.889760</td>\n      <td>2019-03-28T02:08:55.000</td>\n      <td>RESIDENTIAL BUILDING</td>\n      <td>Closed</td>\n    </tr>\n    <tr>\n      <th>157</th>\n      <td>2019-03-27T04:36:22.000</td>\n      <td>42064133</td>\n      <td>HEAT/HOT WATER</td>\n      <td>11106.0</td>\n      <td>31-35 CRESCENT STREET</td>\n      <td>CRESCENT STREET</td>\n      <td>ADDRESS</td>\n      <td>Astoria</td>\n      <td>The Department of Housing Preservation and Dev...</td>\n      <td>QUEENS</td>\n      <td>40.764684</td>\n      <td>-73.927184</td>\n      <td>2019-03-30T02:06:02.000</td>\n      <td>RESIDENTIAL BUILDING</td>\n      <td>Closed</td>\n    </tr>\n    <tr>\n      <th>159</th>\n      <td>2019-03-27T17:52:17.000</td>\n      <td>42065237</td>\n      <td>HEAT/HOT WATER</td>\n      <td>10459.0</td>\n      <td>930 FOX STREET</td>\n      <td>FOX STREET</td>\n      <td>ADDRESS</td>\n      <td>BRONX</td>\n      <td>The Department of Housing Preservation and Dev...</td>\n      <td>BRONX</td>\n      <td>40.820637</td>\n      <td>-73.893872</td>\n      <td>2019-03-30T02:08:48.000</td>\n      <td>RESIDENTIAL BUILDING</td>\n      <td>Closed</td>\n    </tr>\n    <tr>\n      <th>160</th>\n      <td>2019-03-27T21:16:20.000</td>\n      <td>42065248</td>\n      <td>HEAT/HOT WATER</td>\n      <td>10467.0</td>\n      <td>3525 DECATUR AVENUE</td>\n      <td>DECATUR AVENUE</td>\n      <td>ADDRESS</td>\n      <td>BRONX</td>\n      <td>The complaint you filed is a duplicate of a co...</td>\n      <td>BRONX</td>\n      <td>40.879228</td>\n      <td>-73.872353</td>\n      <td>2019-03-30T02:06:18.000</td>\n      <td>RESIDENTIAL BUILDING</td>\n      <td>Closed</td>\n    </tr>\n  </tbody>\n</table>\n</div>", 
                        "text/plain": "                created_date  unique_key  complaint_type  incident_zip  \\\n154  2019-03-25T16:31:21.000    42049572  HEAT/HOT WATER       11385.0   \n155  2019-03-26T21:10:48.000    42061623  HEAT/HOT WATER       11236.0   \n157  2019-03-27T04:36:22.000    42064133  HEAT/HOT WATER       11106.0   \n159  2019-03-27T17:52:17.000    42065237  HEAT/HOT WATER       10459.0   \n160  2019-03-27T21:16:20.000    42065248  HEAT/HOT WATER       10467.0   \n\n          incident_address      street_name address_type       city  \\\n154        71-21 65 STREET        65 STREET      ADDRESS  Ridgewood   \n155         10412 AVENUE L         AVENUE L      ADDRESS   BROOKLYN   \n157  31-35 CRESCENT STREET  CRESCENT STREET      ADDRESS    Astoria   \n159         930 FOX STREET       FOX STREET      ADDRESS      BRONX   \n160    3525 DECATUR AVENUE   DECATUR AVENUE      ADDRESS      BRONX   \n\n                                resolution_description   borough   latitude  \\\n154  The Department of Housing Preservation and Dev...    QUEENS  40.701989   \n155  The Department of Housing Preservation and Dev...  BROOKLYN  40.642237   \n157  The Department of Housing Preservation and Dev...    QUEENS  40.764684   \n159  The Department of Housing Preservation and Dev...     BRONX  40.820637   \n160  The complaint you filed is a duplicate of a co...     BRONX  40.879228   \n\n     longitude              closed_date         location_type  status  \n154 -73.890577  2019-03-30T08:11:05.000  RESIDENTIAL BUILDING  Closed  \n155 -73.889760  2019-03-28T02:08:55.000  RESIDENTIAL BUILDING  Closed  \n157 -73.927184  2019-03-30T02:06:02.000  RESIDENTIAL BUILDING  Closed  \n159 -73.893872  2019-03-30T02:08:48.000  RESIDENTIAL BUILDING  Closed  \n160 -73.872353  2019-03-30T02:06:18.000  RESIDENTIAL BUILDING  Closed  "
                    }, 
                    "output_type": "execute_result"
                }
            ], 
            "source": "focus.head()"
        }, 
        {
            "execution_count": 16, 
            "cell_type": "code", 
            "metadata": {}, 
            "outputs": [], 
            "source": "A=df[df.borough=='BRONX']\nB=df[df.borough=='BROOKLYN']\ndf = pd.concat([A,B])"
        }, 
        {
            "execution_count": 17, 
            "cell_type": "code", 
            "metadata": {}, 
            "outputs": [
                {
                    "execution_count": 17, 
                    "metadata": {}, 
                    "data": {
                        "text/plain": "Index(['created_date', 'unique_key', 'complaint_type', 'incident_zip',\n       'Address', 'street_name', 'address_type', 'city',\n       'resolution_description', 'borough', 'latitude', 'longitude',\n       'closed_date', 'location_type', 'status'],\n      dtype='object')"
                    }, 
                    "output_type": "execute_result"
                }
            ], 
            "source": "df.rename(columns={'incident_address':'Address'},inplace=True)\ndf.columns"
        }, 
        {
            "execution_count": 18, 
            "cell_type": "code", 
            "metadata": {}, 
            "outputs": [], 
            "source": "X=df.merge(df_top, on='Address', how='left')"
        }, 
        {
            "execution_count": 19, 
            "cell_type": "code", 
            "metadata": {}, 
            "outputs": [
                {
                    "execution_count": 19, 
                    "metadata": {}, 
                    "data": {
                        "text/html": "<div>\n<style scoped>\n    .dataframe tbody tr th:only-of-type {\n        vertical-align: middle;\n    }\n\n    .dataframe tbody tr th {\n        vertical-align: top;\n    }\n\n    .dataframe thead th {\n        text-align: right;\n    }\n</style>\n<table border=\"1\" class=\"dataframe\">\n  <thead>\n    <tr style=\"text-align: right;\">\n      <th></th>\n      <th>created_date</th>\n      <th>unique_key</th>\n      <th>complaint_type</th>\n      <th>incident_zip</th>\n      <th>Address</th>\n      <th>street_name</th>\n      <th>address_type</th>\n      <th>city</th>\n      <th>resolution_description</th>\n      <th>borough</th>\n      <th>...</th>\n      <th>NumFloors</th>\n      <th>OfficeArea</th>\n      <th>ResArea</th>\n      <th>ResidFAR</th>\n      <th>RetailArea</th>\n      <th>YearBuilt</th>\n      <th>YearAlter1</th>\n      <th>ZipCode</th>\n      <th>YCoord</th>\n      <th>XCoord</th>\n    </tr>\n  </thead>\n  <tbody>\n    <tr>\n      <th>0</th>\n      <td>2019-02-14T10:09:10.000</td>\n      <td>41696053</td>\n      <td>PAINT/PLASTER</td>\n      <td>10456.0</td>\n      <td>1230 TELLER AVENUE</td>\n      <td>TELLER AVENUE</td>\n      <td>ADDRESS</td>\n      <td>BRONX</td>\n      <td>The Department of Housing Preservation and Dev...</td>\n      <td>BRONX</td>\n      <td>...</td>\n      <td>8.0</td>\n      <td>0.0</td>\n      <td>73724.0</td>\n      <td>3.44</td>\n      <td>0.0</td>\n      <td>1941.0</td>\n      <td>0.0</td>\n      <td>10456.0</td>\n      <td>242750.0</td>\n      <td>1008904.0</td>\n    </tr>\n    <tr>\n      <th>1</th>\n      <td>2019-02-14T10:09:10.000</td>\n      <td>41698037</td>\n      <td>PAINT/PLASTER</td>\n      <td>10456.0</td>\n      <td>1230 TELLER AVENUE</td>\n      <td>TELLER AVENUE</td>\n      <td>ADDRESS</td>\n      <td>BRONX</td>\n      <td>The Department of Housing Preservation and Dev...</td>\n      <td>BRONX</td>\n      <td>...</td>\n      <td>8.0</td>\n      <td>0.0</td>\n      <td>73724.0</td>\n      <td>3.44</td>\n      <td>0.0</td>\n      <td>1941.0</td>\n      <td>0.0</td>\n      <td>10456.0</td>\n      <td>242750.0</td>\n      <td>1008904.0</td>\n    </tr>\n    <tr>\n      <th>2</th>\n      <td>2019-02-14T10:09:09.000</td>\n      <td>41698629</td>\n      <td>UNSANITARY CONDITION</td>\n      <td>10456.0</td>\n      <td>1230 TELLER AVENUE</td>\n      <td>TELLER AVENUE</td>\n      <td>ADDRESS</td>\n      <td>BRONX</td>\n      <td>The Department of Housing Preservation and Dev...</td>\n      <td>BRONX</td>\n      <td>...</td>\n      <td>8.0</td>\n      <td>0.0</td>\n      <td>73724.0</td>\n      <td>3.44</td>\n      <td>0.0</td>\n      <td>1941.0</td>\n      <td>0.0</td>\n      <td>10456.0</td>\n      <td>242750.0</td>\n      <td>1008904.0</td>\n    </tr>\n    <tr>\n      <th>3</th>\n      <td>2019-02-14T10:09:10.000</td>\n      <td>41702856</td>\n      <td>UNSANITARY CONDITION</td>\n      <td>10456.0</td>\n      <td>1230 TELLER AVENUE</td>\n      <td>TELLER AVENUE</td>\n      <td>ADDRESS</td>\n      <td>BRONX</td>\n      <td>The Department of Housing Preservation and Dev...</td>\n      <td>BRONX</td>\n      <td>...</td>\n      <td>8.0</td>\n      <td>0.0</td>\n      <td>73724.0</td>\n      <td>3.44</td>\n      <td>0.0</td>\n      <td>1941.0</td>\n      <td>0.0</td>\n      <td>10456.0</td>\n      <td>242750.0</td>\n      <td>1008904.0</td>\n    </tr>\n    <tr>\n      <th>4</th>\n      <td>2019-02-14T10:09:10.000</td>\n      <td>41704590</td>\n      <td>PAINT/PLASTER</td>\n      <td>10456.0</td>\n      <td>1230 TELLER AVENUE</td>\n      <td>TELLER AVENUE</td>\n      <td>ADDRESS</td>\n      <td>BRONX</td>\n      <td>The Department of Housing Preservation and Dev...</td>\n      <td>BRONX</td>\n      <td>...</td>\n      <td>8.0</td>\n      <td>0.0</td>\n      <td>73724.0</td>\n      <td>3.44</td>\n      <td>0.0</td>\n      <td>1941.0</td>\n      <td>0.0</td>\n      <td>10456.0</td>\n      <td>242750.0</td>\n      <td>1008904.0</td>\n    </tr>\n  </tbody>\n</table>\n<p>5 rows \u00d7 36 columns</p>\n</div>", 
                        "text/plain": "              created_date  unique_key        complaint_type  incident_zip  \\\n0  2019-02-14T10:09:10.000    41696053         PAINT/PLASTER       10456.0   \n1  2019-02-14T10:09:10.000    41698037         PAINT/PLASTER       10456.0   \n2  2019-02-14T10:09:09.000    41698629  UNSANITARY CONDITION       10456.0   \n3  2019-02-14T10:09:10.000    41702856  UNSANITARY CONDITION       10456.0   \n4  2019-02-14T10:09:10.000    41704590         PAINT/PLASTER       10456.0   \n\n              Address    street_name address_type   city  \\\n0  1230 TELLER AVENUE  TELLER AVENUE      ADDRESS  BRONX   \n1  1230 TELLER AVENUE  TELLER AVENUE      ADDRESS  BRONX   \n2  1230 TELLER AVENUE  TELLER AVENUE      ADDRESS  BRONX   \n3  1230 TELLER AVENUE  TELLER AVENUE      ADDRESS  BRONX   \n4  1230 TELLER AVENUE  TELLER AVENUE      ADDRESS  BRONX   \n\n                              resolution_description borough    ...      \\\n0  The Department of Housing Preservation and Dev...   BRONX    ...       \n1  The Department of Housing Preservation and Dev...   BRONX    ...       \n2  The Department of Housing Preservation and Dev...   BRONX    ...       \n3  The Department of Housing Preservation and Dev...   BRONX    ...       \n4  The Department of Housing Preservation and Dev...   BRONX    ...       \n\n   NumFloors  OfficeArea  ResArea ResidFAR RetailArea YearBuilt  YearAlter1  \\\n0        8.0         0.0  73724.0     3.44        0.0    1941.0         0.0   \n1        8.0         0.0  73724.0     3.44        0.0    1941.0         0.0   \n2        8.0         0.0  73724.0     3.44        0.0    1941.0         0.0   \n3        8.0         0.0  73724.0     3.44        0.0    1941.0         0.0   \n4        8.0         0.0  73724.0     3.44        0.0    1941.0         0.0   \n\n   ZipCode    YCoord     XCoord  \n0  10456.0  242750.0  1008904.0  \n1  10456.0  242750.0  1008904.0  \n2  10456.0  242750.0  1008904.0  \n3  10456.0  242750.0  1008904.0  \n4  10456.0  242750.0  1008904.0  \n\n[5 rows x 36 columns]"
                    }, 
                    "output_type": "execute_result"
                }
            ], 
            "source": "X.head()"
        }, 
        {
            "execution_count": 20, 
            "cell_type": "code", 
            "metadata": {}, 
            "outputs": [], 
            "source": "X=X[['complaint_type','Borough','BldgArea', 'BldgDepth', 'BuiltFAR', 'CommFAR', 'FacilFAR', 'Lot',\n       'LotArea', 'LotDepth', 'NumBldgs', 'NumFloors', 'OfficeArea', 'ResArea',\n       'ResidFAR', 'RetailArea', 'YearBuilt', 'YearAlter1', 'ZipCode',\n       'YCoord', 'XCoord']]"
        }, 
        {
            "execution_count": 21, 
            "cell_type": "code", 
            "metadata": {}, 
            "outputs": [], 
            "source": "X=X.dropna()\n#X=X.sample(10000)"
        }, 
        {
            "execution_count": 22, 
            "cell_type": "code", 
            "metadata": {}, 
            "outputs": [], 
            "source": "X=X.replace(to_replace =\"HEAT/HOT WATER\",value =\"HEATING\") \ndf_CMP = pd.get_dummies(X['complaint_type'])\ndf_new = pd.concat([X, df_CMP], axis=1)\n\nCorr=df_new.corr()\n"
        }, 
        {
            "execution_count": 24, 
            "cell_type": "code", 
            "metadata": {}, 
            "outputs": [
                {
                    "execution_count": 24, 
                    "metadata": {}, 
                    "data": {
                        "text/plain": "<matplotlib.axes._subplots.AxesSubplot at 0x7f7ca75d1f98>"
                    }, 
                    "output_type": "execute_result"
                }, 
                {
                    "output_type": "display_data", 
                    "data": {
                        "image/png": "[encoded data removed]", 
                        "text/plain": "<matplotlib.figure.Figure at 0x7f7ca75dc8d0>"
                    }, 
                    "metadata": {}
                }
            ], 
            "source": "Corr['HEATING'][0:19].plot.bar()"
        }, 
        {
            "execution_count": 25, 
            "cell_type": "code", 
            "metadata": {}, 
            "outputs": [], 
            "source": "#No of floors, ResArea, BldgArea etc can be important factors for predicting the top complaint type\ndf_new=df_new.drop(columns=['complaint_type','Borough'])"
        }, 
        {
            "execution_count": 26, 
            "cell_type": "code", 
            "metadata": {}, 
            "outputs": [], 
            "source": "Features=df_new[['BldgArea', 'BldgDepth', 'BuiltFAR', 'CommFAR', 'FacilFAR', 'Lot',\n       'LotArea', 'LotDepth', 'NumBldgs', 'NumFloors', 'OfficeArea', 'ResArea',\n       'ResidFAR', 'RetailArea', 'YearBuilt', 'YearAlter1', 'ZipCode',\n       'YCoord', 'XCoord']]\ny=df_new['HEATING']"
        }, 
        {
            "execution_count": 27, 
            "cell_type": "code", 
            "metadata": {}, 
            "outputs": [], 
            "source": "from sklearn import preprocessing\nX= preprocessing.StandardScaler().fit(Features).transform(Features)"
        }, 
        {
            "execution_count": 28, 
            "cell_type": "code", 
            "metadata": {}, 
            "outputs": [
                {
                    "output_type": "stream", 
                    "name": "stdout", 
                    "text": "Train set: (2125832, 19) (2125832,)\nTest set: (531459, 19) (531459,)\n"
                }
            ], 
            "source": "from sklearn.model_selection import train_test_split\nX_train, X_test, y_train, y_test = train_test_split( X, y, test_size=0.2, random_state=4)\nprint ('Train set:', X_train.shape,  y_train.shape)\nprint ('Test set:', X_test.shape,  y_test.shape)"
        }, 
        {
            "execution_count": 29, 
            "cell_type": "code", 
            "metadata": {}, 
            "outputs": [
                {
                    "output_type": "stream", 
                    "name": "stdout", 
                    "text": "[LibLinear]"
                }, 
                {
                    "execution_count": 29, 
                    "metadata": {}, 
                    "data": {
                        "text/plain": "LogisticRegression(C=5, class_weight=None, dual=False, fit_intercept=True,\n          intercept_scaling=1, max_iter=100, multi_class='ovr', n_jobs=1,\n          penalty='l2', random_state=None, solver='liblinear', tol=0.0001,\n          verbose=1, warm_start=False)"
                    }, 
                    "output_type": "execute_result"
                }
            ], 
            "source": "from sklearn.linear_model import LogisticRegression\n\n# instantiate the model (using the default parameters)\nlogreg = LogisticRegression(C=5, verbose=1)\nlogreg.fit(X_train,y_train)"
        }, 
        {
            "execution_count": 30, 
            "cell_type": "code", 
            "metadata": {}, 
            "outputs": [], 
            "source": "y_pred=logreg.predict(X_test)"
        }, 
        {
            "execution_count": 31, 
            "cell_type": "code", 
            "metadata": {}, 
            "outputs": [], 
            "source": "from sklearn import metrics\ncnf_matrix = metrics.confusion_matrix(y_test, y_pred)"
        }, 
        {
            "execution_count": 32, 
            "cell_type": "code", 
            "metadata": {}, 
            "outputs": [
                {
                    "execution_count": 32, 
                    "metadata": {}, 
                    "data": {
                        "text/plain": "array([[348442,   2082],\n       [179445,   1490]])"
                    }, 
                    "output_type": "execute_result"
                }
            ], 
            "source": "cnf_matrix"
        }, 
        {
            "execution_count": 33, 
            "cell_type": "code", 
            "metadata": {}, 
            "outputs": [
                {
                    "output_type": "stream", 
                    "name": "stdout", 
                    "text": "Accuracy: 65.84 %\n"
                }
            ], 
            "source": "from sklearn.metrics import accuracy_score\nsc=accuracy_score(y_test, y_pred)*100\nprint(\"Accuracy: \"+str(round(sc,2))+\" %\")"
        }, 
        {
            "execution_count": null, 
            "cell_type": "code", 
            "metadata": {}, 
            "outputs": [], 
            "source": ""
        }, 
        {
            "execution_count": null, 
            "cell_type": "code", 
            "metadata": {}, 
            "outputs": [], 
            "source": ""
        }
    ], 
    "metadata": {
        "kernelspec": {
            "display_name": "Python 3.5", 
            "name": "python3", 
            "language": "python"
        }, 
        "language_info": {
            "mimetype": "text/x-python", 
            "nbconvert_exporter": "python", 
            "version": "3.5.5", 
            "name": "python", 
            "file_extension": ".py", 
            "pygments_lexer": "ipython3", 
            "codemirror_mode": {
                "version": 3, 
                "name": "ipython"
            }
        }
    }, 
    "nbformat": 4
}