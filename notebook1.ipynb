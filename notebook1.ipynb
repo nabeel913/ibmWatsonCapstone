{
    "nbformat_minor": 1, 
    "cells": [

        {
            "execution_count": 20, 
            "cell_type": "code", 
            "metadata": {
                "scrolled": true
            }, 
            "outputs": [
                {
                    "output_type": "stream", 
                    "name": "stdout", 
                    "text": "              created_date  unique_key          complaint_type  incident_zip  \\\n0  2013-01-11T13:25:34.000    24765056  HPD Literature Request           NaN   \n1  2018-08-11T19:19:41.000    39981834           PAINT/PLASTER       11429.0   \n2  2018-08-11T19:19:41.000    39982698               APPLIANCE       11429.0   \n3  2018-08-11T19:19:41.000    39987943    UNSANITARY CONDITION       11429.0   \n4  2018-10-23T19:27:06.000    40636028             DOOR/WINDOW       11412.0   \n\n    incident_address street_name address_type            city  \\\n0                NaN         NaN          NaN             NaN   \n1  104-34 219 STREET  219 STREET      ADDRESS  Queens Village   \n2  104-34 219 STREET  219 STREET      ADDRESS  Queens Village   \n3  104-34 219 STREET  219 STREET      ADDRESS  Queens Village   \n4  116-35 195 STREET  195 STREET      ADDRESS    Saint Albans   \n\n                              resolution_description      borough   latitude  \\\n0  The literature has been mailed. If it has not ...  Unspecified        NaN   \n1  The Department of Housing Preservation and Dev...       QUEENS  40.711539   \n2  The Department of Housing Preservation and Dev...       QUEENS  40.711539   \n3  The Department of Housing Preservation and Dev...       QUEENS  40.711539   \n4  The Department of Housing Preservation and Dev...       QUEENS  40.693715   \n\n   longitude              closed_date         location_type  status  \n0        NaN  2013-01-11T15:01:56.000                   NaN  Closed  \n1 -73.735724  2019-03-30T08:58:02.000  RESIDENTIAL BUILDING  Closed  \n2 -73.735724  2019-03-30T08:58:01.000  RESIDENTIAL BUILDING  Closed  \n3 -73.735724  2019-03-30T08:58:01.000  RESIDENTIAL BUILDING  Closed  \n4 -73.757117  2019-03-30T08:58:02.000  RESIDENTIAL BUILDING  Closed  \n"
                }
            ], 
            "source": "df = pd.read_pickle('./df_raw_local.pkl')\nprint(df.head())"
        }, 
        {
            "execution_count": 23, 
            "cell_type": "code", 
            "metadata": {}, 
            "outputs": [], 
            "source": "\ncomplaints=(df['complaint_type'].value_counts())\n"
        }, 
        {
            "execution_count": 27, 
            "cell_type": "code", 
            "metadata": {}, 
            "outputs": [
                {
                    "output_type": "stream", 
                    "name": "stdout", 
                    "text": "HEAT/HOT WATER    1146190\nHEATING            887869\nPLUMBING           698569\nName: complaint_type, dtype: int64\n"
                }
            ], 
            "source": "print(complaints.nlargest(3)) #Largest 3 complaints"
        }, 
        {
            "execution_count": null, 
            "cell_type": "code", 
            "metadata": {}, 
            "outputs": [], 
            "source": ""
        }
    ], 
    "metadata": {
        "kernelspec": {
            "display_name": "Python 3.5", 
            "name": "python3", 
            "language": "python"
        }, 
        "language_info": {
            "mimetype": "text/x-python", 
            "nbconvert_exporter": "python", 
            "version": "3.5.5", 
            "name": "python", 
            "file_extension": ".py", 
            "pygments_lexer": "ipython3", 
            "codemirror_mode": {
                "version": 3, 
                "name": "ipython"
            }
        }
    }, 
    "nbformat": 4
}
